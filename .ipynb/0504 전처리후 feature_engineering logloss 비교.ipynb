{
 "cells": [
  {
   "cell_type": "code",
   "execution_count": 43,
   "id": "b990fbb9",
   "metadata": {},
   "outputs": [
    {
     "name": "stderr",
     "output_type": "stream",
     "text": [
      "UsageError: unrecognized arguments: # plt.show()를 하지 않아도 자동으로 생성되도록 만든다.\n"
     ]
    }
   ],
   "source": [
    "import pandas as pd\n",
    "import numpy as np\n",
    "import math\n",
    "import seaborn as sns\n",
    "import matplotlib.pyplot as plt\n",
    "import missingno\n",
    "\n",
    "from sklearn.preprocessing import OneHotEncoder, StandardScaler, MinMaxScaler\n",
    "from sklearn.compose import ColumnTransformer\n",
    "from sklearn.pipeline import Pipeline\n",
    "from sklearn import preprocessing\n",
    "from sklearn import model_selection, svm\n",
    "from sklearn.ensemble import GradientBoostingClassifier\n",
    "from sklearn.metrics import log_loss, accuracy_score\n",
    "\n",
    "%matplotlib inline # plt.show()를 하지 않아도 자동으로 생성되도록 만든다."
   ]
  },
  {
   "cell_type": "markdown",
   "id": "3334720b",
   "metadata": {},
   "source": [
    "## Pipeline 사용자함수"
   ]
  },
  {
   "cell_type": "code",
   "execution_count": 100,
   "id": "ba114f3f",
   "metadata": {},
   "outputs": [],
   "source": [
    "def run_pipeline(data_df, target):\n",
    "    #자동으로 num과 cat 변수 갈라서 df 생성\n",
    "    data_df_cat = data_df.select_dtypes(include=np.object)\n",
    "    data_df_num = data_df.select_dtypes(exclude=np.object)\n",
    "\n",
    "    # binary df 만들어주기\n",
    "    data_df_bi = data_df[['gender','car','reality','work_phone','phone','email','dup']]\n",
    "\n",
    "    # cat인데 num df에 들어간 변수 num df에서 drop해주기\n",
    "    data_df_num = data_df_num.drop(columns=['gender','car','reality','work_phone','phone','email','dup'])\n",
    "\n",
    "    x_train, x_test, y_train, y_test = model_selection.train_test_split(data_df,\n",
    "                                                                    target,\n",
    "                                                                   test_size = 0.2,\n",
    "                                                                   random_state=0)\n",
    "    \n",
    "    binary_features = data_df_bi.columns\n",
    "    \n",
    "    numeric_features = data_df_num.columns\n",
    "    numeric_transformer = StandardScaler() # cf) RobustScaler\n",
    "\n",
    "    categorical_features = data_df_cat.columns\n",
    "    categorical_transformer = OneHotEncoder(categories='auto', handle_unknown='ignore') # categories='auto' : just for ignoring warning messages\n",
    "\n",
    "    preprocessor = ColumnTransformer(\n",
    "        transformers=[ # List of (name, transformer, column(s))\n",
    "            ('num', numeric_transformer, numeric_features),\n",
    "            ('cat', categorical_transformer, categorical_features),\n",
    "             ('bi','passthrough',binary_features)])\n",
    "\n",
    "    preprocessor_pipe = Pipeline(steps=[('preprocessor', preprocessor)])\n",
    "    preprocessor_pipe.fit(x_train)\n",
    "\n",
    "    x_train_transformed = preprocessor_pipe.transform(x_train)\n",
    "    x_test_transformed = preprocessor_pipe.transform(x_test)\n",
    "    y_test = pd.DataFrame(y_test)  # typeerror: 'numpy.float64' object is not callable 해결\n",
    "    \n",
    "    return x_train_transformed, x_test_transformed, y_train, y_test"
   ]
  },
  {
   "cell_type": "code",
   "execution_count": 116,
   "id": "e37e57df",
   "metadata": {},
   "outputs": [],
   "source": [
    "# Gradient Boosting 모델에 대해서 score와 logloss를 출력, logloss반환\n",
    "from sklearn.metrics import log_loss, accuracy_score\n",
    "\n",
    "def get_logloss_GBC(x_train_transformed, x_test_transformed, y_train, y_test):  \n",
    "    params = {'n_estimators':1000, 'max_depth':4, 'min_samples_split':2,\n",
    "      'learning_rate': 0.1, 'random_state': 0}\n",
    "    \n",
    "#     params = {'n_estimators':10, 'max_depth':3, 'min_samples_split':2,\n",
    "#       'learning_rate': 1, 'random_state': 0}\n",
    "\n",
    "\n",
    "    # 모델 학습\n",
    "    model = GradientBoostingClassifier(**params)\n",
    "    model.fit(x_train_transformed, y_train)\n",
    "\n",
    "    # test셋에 대해서 예측 정확도 출력\n",
    "    x_pred = model.predict(x_test_transformed)\n",
    "    accuracy = accuracy_score(x_pred, y_test)\n",
    "    print(\"model score:\", round(accuracy, 4))\n",
    "    \n",
    "    proba_result = model.predict_proba(x_test_transformed)\n",
    "    print(\"proba_result :\",proba_result)\n",
    "\n",
    "    pro_logloss = log_loss(y_test, proba_result)\n",
    "    print('logloss: ',pro_logloss)\n",
    "    \n",
    "    return pro_logloss"
   ]
  },
  {
   "cell_type": "markdown",
   "id": "def6feea",
   "metadata": {},
   "source": [
    "# 머신러닝 피처별 모델 비교\n",
    "\n",
    "    \n",
    "피처들을 제거했을때보다 그대로 활용했을때 logloss가 적게 나옴"
   ]
  },
  {
   "cell_type": "code",
   "execution_count": 52,
   "id": "c0e9e68b",
   "metadata": {},
   "outputs": [],
   "source": [
    "data_df_groupby = pd.read_csv('pre_credit_df(fill_groupby).csv')\n",
    "data_df_ml = pd.read_csv('pre_credit_df(fill_ML).csv')"
   ]
  },
  {
   "cell_type": "code",
   "execution_count": 53,
   "id": "a0225ac9",
   "metadata": {
    "scrolled": true
   },
   "outputs": [
    {
     "data": {
      "text/plain": [
       "Laborers                 7850\n",
       "Unemployed               4440\n",
       "Core staff               3039\n",
       "Sales staff              2539\n",
       "Managers                 2167\n",
       "Drivers                  1575\n",
       "High skill tech staff    1040\n",
       "Accountants               902\n",
       "Medicine staff            864\n",
       "Cooking staff             457\n",
       "Security staff            424\n",
       "Cleaning staff            403\n",
       "Private service staff     243\n",
       "Low-skill Laborers        127\n",
       "Waiters/barmen staff      124\n",
       "Secretaries                97\n",
       "Realty agents              63\n",
       "HR staff                   62\n",
       "IT staff                   41\n",
       "Name: occyp_type, dtype: int64"
      ]
     },
     "execution_count": 53,
     "metadata": {},
     "output_type": "execute_result"
    }
   ],
   "source": [
    "data_df_groupby['occyp_type'].value_counts()"
   ]
  },
  {
   "cell_type": "code",
   "execution_count": 54,
   "id": "84a92455",
   "metadata": {
    "scrolled": true
   },
   "outputs": [
    {
     "data": {
      "text/plain": [
       "Laborers                 5669\n",
       "Unemployed               4439\n",
       "Core staff               3225\n",
       "Sales staff              3168\n",
       "Managers                 2692\n",
       "Drivers                  1810\n",
       "High skill tech staff    1153\n",
       "Accountants              1072\n",
       "Medicine staff            970\n",
       "Cooking staff             494\n",
       "Cleaning staff            466\n",
       "Security staff            460\n",
       "Private service staff     252\n",
       "Low-skill Laborers        142\n",
       "Waiters/barmen staff      131\n",
       "Secretaries               110\n",
       "Realty agents              92\n",
       "HR staff                   66\n",
       "IT staff                   46\n",
       "Name: occyp_type, dtype: int64"
      ]
     },
     "execution_count": 54,
     "metadata": {},
     "output_type": "execute_result"
    }
   ],
   "source": [
    "data_df_ml['occyp_type'].value_counts()"
   ]
  },
  {
   "cell_type": "markdown",
   "id": "3f00360f",
   "metadata": {},
   "source": [
    "# 01. Gradient Boosting Classifier"
   ]
  },
  {
   "cell_type": "markdown",
   "id": "9e06749e",
   "metadata": {},
   "source": [
    "### 직업열을 최빈값으로 채웠을때"
   ]
  },
  {
   "cell_type": "code",
   "execution_count": 106,
   "id": "b31ec7b9",
   "metadata": {},
   "outputs": [],
   "source": [
    "data_df = pd.read_csv('pre_credit_df(fill_groupby).csv')\n",
    "target = data_df['credit']\n",
    "data_df = data_df.drop(['credit'], axis=1)"
   ]
  },
  {
   "cell_type": "code",
   "execution_count": 107,
   "id": "71032223",
   "metadata": {},
   "outputs": [],
   "source": [
    "x_train_transformed, x_test_transformed, y_train, y_test = run_pipeline(data_df, target)"
   ]
  },
  {
   "cell_type": "code",
   "execution_count": 108,
   "id": "48f8b3f6",
   "metadata": {
    "scrolled": true
   },
   "outputs": [
    {
     "name": "stdout",
     "output_type": "stream",
     "text": [
      "model score: 0.7113\n",
      "proba_result : [[0.19253043 0.54913261 0.25833696]\n",
      " [0.2124928  0.1122863  0.6752209 ]\n",
      " [0.09996602 0.18176523 0.71826876]\n",
      " ...\n",
      " [0.16646437 0.14562803 0.68790759]\n",
      " [0.04555345 0.0822485  0.87219805]\n",
      " [0.10149636 0.25429551 0.64420813]]\n",
      "logloss:  0.750289981989438\n"
     ]
    }
   ],
   "source": [
    "log_loss = get_logloss_GBC(x_train_transformed, x_test_transformed, y_train, y_test)"
   ]
  },
  {
   "cell_type": "markdown",
   "id": "cfbb8434",
   "metadata": {},
   "source": [
    "### 직업열을 ML로 채웠을때"
   ]
  },
  {
   "cell_type": "code",
   "execution_count": 117,
   "id": "1431bf4e",
   "metadata": {},
   "outputs": [],
   "source": [
    "data_df = pd.read_csv('pre_credit_df(fill_ML).csv')\n",
    "target = data_df['credit']\n",
    "data_df = data_df.drop(['credit'], axis=1)"
   ]
  },
  {
   "cell_type": "code",
   "execution_count": 118,
   "id": "e379bf53",
   "metadata": {
    "scrolled": true
   },
   "outputs": [],
   "source": [
    "x_train_transformed, x_test_transformed, y_train, y_test = run_pipeline(data_df, target)"
   ]
  },
  {
   "cell_type": "code",
   "execution_count": 119,
   "id": "fd6bd771",
   "metadata": {},
   "outputs": [
    {
     "name": "stdout",
     "output_type": "stream",
     "text": [
      "model score: 0.7099\n",
      "proba_result : [[0.24639096 0.56067398 0.19293506]\n",
      " [0.18534298 0.10426497 0.71039206]\n",
      " [0.1234076  0.23043188 0.64616051]\n",
      " ...\n",
      " [0.22919343 0.1334627  0.63734386]\n",
      " [0.06669923 0.08847617 0.8448246 ]\n",
      " [0.12243065 0.23232722 0.64524212]]\n",
      "logloss:  0.7518756527434367\n"
     ]
    }
   ],
   "source": [
    "log_loss = get_logloss_GBC(x_train_transformed, x_test_transformed, y_train, y_test)"
   ]
  },
  {
   "cell_type": "markdown",
   "id": "1319e336",
   "metadata": {},
   "source": [
    "## Gradient Boosting Classifier (occyp_type 제거)"
   ]
  },
  {
   "cell_type": "code",
   "execution_count": 120,
   "id": "4dacb615",
   "metadata": {},
   "outputs": [],
   "source": [
    "data_df_del_occyp = data_df.drop(['occyp_type'], axis=1)"
   ]
  },
  {
   "cell_type": "code",
   "execution_count": 121,
   "id": "295ed522",
   "metadata": {},
   "outputs": [],
   "source": [
    "x_train_transformed, x_test_transformed, y_train, y_test = run_pipeline(data_df_del_occyp, target)"
   ]
  },
  {
   "cell_type": "code",
   "execution_count": 122,
   "id": "c9aa71d5",
   "metadata": {
    "scrolled": true
   },
   "outputs": [
    {
     "name": "stdout",
     "output_type": "stream",
     "text": [
      "model score: 0.7073\n",
      "proba_result : [[0.19978546 0.62226832 0.17794622]\n",
      " [0.20078572 0.08143067 0.71778361]\n",
      " [0.13221115 0.18697141 0.68081744]\n",
      " ...\n",
      " [0.19819948 0.15221955 0.64958097]\n",
      " [0.06225055 0.06812585 0.8696236 ]\n",
      " [0.08484535 0.17060914 0.74454551]]\n"
     ]
    },
    {
     "ename": "TypeError",
     "evalue": "'numpy.float64' object is not callable",
     "output_type": "error",
     "traceback": [
      "\u001b[1;31m---------------------------------------------------------------------------\u001b[0m",
      "\u001b[1;31mTypeError\u001b[0m                                 Traceback (most recent call last)",
      "\u001b[1;32m<ipython-input-122-60715335e553>\u001b[0m in \u001b[0;36m<module>\u001b[1;34m\u001b[0m\n\u001b[1;32m----> 1\u001b[1;33m \u001b[0mlog_loss\u001b[0m \u001b[1;33m=\u001b[0m \u001b[0mget_logloss_GBC\u001b[0m\u001b[1;33m(\u001b[0m\u001b[0mx_train_transformed\u001b[0m\u001b[1;33m,\u001b[0m \u001b[0mx_test_transformed\u001b[0m\u001b[1;33m,\u001b[0m \u001b[0my_train\u001b[0m\u001b[1;33m,\u001b[0m \u001b[0my_test\u001b[0m\u001b[1;33m)\u001b[0m\u001b[1;33m\u001b[0m\u001b[1;33m\u001b[0m\u001b[0m\n\u001b[0m",
      "\u001b[1;32m<ipython-input-116-b0d8bbf8e0be>\u001b[0m in \u001b[0;36mget_logloss_GBC\u001b[1;34m(x_train_transformed, x_test_transformed, y_train, y_test)\u001b[0m\n\u001b[0;32m     22\u001b[0m     \u001b[0mprint\u001b[0m\u001b[1;33m(\u001b[0m\u001b[1;34m\"proba_result :\"\u001b[0m\u001b[1;33m,\u001b[0m\u001b[0mproba_result\u001b[0m\u001b[1;33m)\u001b[0m\u001b[1;33m\u001b[0m\u001b[1;33m\u001b[0m\u001b[0m\n\u001b[0;32m     23\u001b[0m \u001b[1;33m\u001b[0m\u001b[0m\n\u001b[1;32m---> 24\u001b[1;33m     \u001b[0mpro_logloss\u001b[0m \u001b[1;33m=\u001b[0m \u001b[0mlog_loss\u001b[0m\u001b[1;33m(\u001b[0m\u001b[0my_test\u001b[0m\u001b[1;33m,\u001b[0m \u001b[0mproba_result\u001b[0m\u001b[1;33m)\u001b[0m\u001b[1;33m\u001b[0m\u001b[1;33m\u001b[0m\u001b[0m\n\u001b[0m\u001b[0;32m     25\u001b[0m     \u001b[0mprint\u001b[0m\u001b[1;33m(\u001b[0m\u001b[1;34m'logloss: '\u001b[0m\u001b[1;33m,\u001b[0m\u001b[0mpro_logloss\u001b[0m\u001b[1;33m)\u001b[0m\u001b[1;33m\u001b[0m\u001b[1;33m\u001b[0m\u001b[0m\n\u001b[0;32m     26\u001b[0m \u001b[1;33m\u001b[0m\u001b[0m\n",
      "\u001b[1;31mTypeError\u001b[0m: 'numpy.float64' object is not callable"
     ]
    }
   ],
   "source": [
    "log_loss = get_logloss_GBC(x_train_transformed, x_test_transformed, y_train, y_test)"
   ]
  },
  {
   "cell_type": "markdown",
   "id": "7e5cb6ab",
   "metadata": {},
   "source": [
    "## Gradient Boosting Classifier (adult_num 추가)\n",
    "- adult_num = family_size - child_num"
   ]
  },
  {
   "cell_type": "code",
   "execution_count": null,
   "id": "93922426",
   "metadata": {},
   "outputs": [],
   "source": [
    "data_df_adult = data_df.copy()\n",
    "data_df_adult['adult_num'] = data_df['family_size'] - data_df['child_num']\n",
    "data_df_adult = data_df_adult.drop(['child_num', 'family_size'], axis=1)\n",
    "data_df_adult"
   ]
  },
  {
   "cell_type": "code",
   "execution_count": null,
   "id": "2e634e66",
   "metadata": {},
   "outputs": [],
   "source": [
    "x_train_transformed, x_test_transformed, y_train, y_test = run_pipeline(data_df_adult, target)"
   ]
  },
  {
   "cell_type": "code",
   "execution_count": null,
   "id": "b801d16c",
   "metadata": {},
   "outputs": [],
   "source": [
    "log_loss = get_logloss_GBC(x_train_transformed, x_test_transformed, y_train, y_test)"
   ]
  },
  {
   "cell_type": "markdown",
   "id": "9469dbe5",
   "metadata": {},
   "source": [
    "## Gradient Boosting Classifier (child_num 제거)"
   ]
  },
  {
   "cell_type": "code",
   "execution_count": null,
   "id": "0ad04f29",
   "metadata": {},
   "outputs": [],
   "source": [
    "data_df_del_child = data_df.drop(['child_num'],axis=1).copy()\n",
    "data_df_del_child.head()"
   ]
  },
  {
   "cell_type": "code",
   "execution_count": null,
   "id": "72f4e093",
   "metadata": {},
   "outputs": [],
   "source": [
    "x_train_transformed, x_test_transformed, y_train, y_test = run_pipeline(data_df_del_child, target)"
   ]
  },
  {
   "cell_type": "code",
   "execution_count": null,
   "id": "1469d024",
   "metadata": {},
   "outputs": [],
   "source": [
    "log_loss = get_logloss_GBC(x_train_transformed, x_test_transformed, y_train, y_test)"
   ]
  },
  {
   "cell_type": "markdown",
   "id": "7c258559",
   "metadata": {},
   "source": [
    "## Gradient Boosting (occpy_type 결측치 최빈값으로 채웠을때)"
   ]
  },
  {
   "cell_type": "code",
   "execution_count": null,
   "id": "b7265d01",
   "metadata": {
    "scrolled": true
   },
   "outputs": [],
   "source": [
    "# occyp_type \n",
    "data_df = pd.read_csv('pre_credit_df(fill_groupby).csv')\n",
    "target = data_df['credit']\n",
    "data_df = data_df.drop(['credit'], axis=1)"
   ]
  },
  {
   "cell_type": "code",
   "execution_count": null,
   "id": "4f222c48",
   "metadata": {
    "scrolled": true
   },
   "outputs": [],
   "source": [
    "data_df"
   ]
  },
  {
   "cell_type": "code",
   "execution_count": null,
   "id": "5c4abffc",
   "metadata": {},
   "outputs": [],
   "source": [
    "x_train_transformed, x_test_transformed, y_train, y_test = run_pipeline(data_df, target)"
   ]
  },
  {
   "cell_type": "code",
   "execution_count": null,
   "id": "304bf92f",
   "metadata": {},
   "outputs": [],
   "source": [
    "get_logloss_GBC(x_train_transformed, x_test_transformed, y_train, y_test)"
   ]
  },
  {
   "cell_type": "code",
   "execution_count": null,
   "id": "2ab245cd",
   "metadata": {},
   "outputs": [],
   "source": []
  },
  {
   "cell_type": "code",
   "execution_count": null,
   "id": "8e7e5fa0",
   "metadata": {},
   "outputs": [],
   "source": []
  },
  {
   "cell_type": "code",
   "execution_count": null,
   "id": "876da1e9",
   "metadata": {},
   "outputs": [],
   "source": []
  },
  {
   "cell_type": "code",
   "execution_count": null,
   "id": "4ced247d",
   "metadata": {},
   "outputs": [],
   "source": []
  }
 ],
 "metadata": {
  "kernelspec": {
   "display_name": "Python 3",
   "language": "python",
   "name": "python3"
  },
  "language_info": {
   "codemirror_mode": {
    "name": "ipython",
    "version": 3
   },
   "file_extension": ".py",
   "mimetype": "text/x-python",
   "name": "python",
   "nbconvert_exporter": "python",
   "pygments_lexer": "ipython3",
   "version": "3.8.8"
  }
 },
 "nbformat": 4,
 "nbformat_minor": 5
}
